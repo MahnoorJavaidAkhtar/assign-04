{
  "nbformat": 4,
  "nbformat_minor": 0,
  "metadata": {
    "colab": {
      "provenance": [],
      "authorship_tag": "ABX9TyOxUcOPiGrzm6vNYgS+sHzh",
      "include_colab_link": true
    },
    "kernelspec": {
      "name": "python3",
      "display_name": "Python 3"
    },
    "language_info": {
      "name": "python"
    }
  },
  "cells": [
    {
      "cell_type": "markdown",
      "metadata": {
        "id": "view-in-github",
        "colab_type": "text"
      },
      "source": [
        "<a href=\"https://colab.research.google.com/github/MahnoorJavaidAkhtar/assign-04/blob/main/06_functions.ipynb\" target=\"_parent\"><img src=\"https://colab.research.google.com/assets/colab-badge.svg\" alt=\"Open In Colab\"/></a>"
      ]
    },
    {
      "cell_type": "code",
      "execution_count": 1,
      "metadata": {
        "id": "9oMxfcXNq8T0",
        "colab": {
          "base_uri": "https://localhost:8080/"
        },
        "outputId": "19e688fc-01d0-4d79-8a1b-50b410413ff9"
      },
      "outputs": [
        {
          "output_type": "stream",
          "name": "stdout",
          "text": [
            "00_averages\n",
            "Enter numbers separated by commas:\n",
            "→ 56,65\n",
            "✅ Average of the given numbers: 60.50\n"
          ]
        }
      ],
      "source": [
        "print(\"00_averages\")\n",
        "def calculate_average(numbers):\n",
        "    if not numbers:\n",
        "        return 0\n",
        "    return sum(numbers) / len(numbers)\n",
        "\n",
        "def main():\n",
        "    print(\"Enter numbers separated by commas:\")\n",
        "    user_input = input(\"→ \")\n",
        "\n",
        "    # Convert string input to list of numbers\n",
        "    try:\n",
        "        number_list = [float(num.strip()) for num in user_input.split(\",\")]\n",
        "    except ValueError:\n",
        "        print(\"❌ Invalid input! Please enter valid numbers separated by commas.\")\n",
        "        return\n",
        "\n",
        "    avg = calculate_average(number_list)\n",
        "    print(f\"✅ Average of the given numbers: {avg:.2f}\")\n",
        "\n",
        "if __name__ == \"__main__\":\n",
        "    main()"
      ]
    },
    {
      "cell_type": "code",
      "source": [
        "import random\n",
        "import time\n",
        "\n",
        "print(\"01_chaotic_countin\")\n",
        "def chaotic_counting(start, end, delay=0.5):\n",
        "    numbers = list(range(start, end + 1))\n",
        "    random.shuffle(numbers)  # Random order\n",
        "\n",
        "    print(\"🤪 Chaotic Counting Begins!\")\n",
        "    for number in numbers:\n",
        "        print(number)\n",
        "        time.sleep(delay)  # Small delay for effect\n",
        "    print(\"🎉 Done with chaotic counting!\")\n",
        "\n",
        "def main():\n",
        "    print(\"Enter start and end numbers for chaotic counting.\")\n",
        "    try:\n",
        "        start = int(input(\"Start → \"))\n",
        "        end = int(input(\"End → \"))\n",
        "\n",
        "        if start > end:\n",
        "            print(\"❌ Start should be less than or equal to end!\")\n",
        "            return\n",
        "\n",
        "        chaotic_counting(start, end)\n",
        "    except ValueError:\n",
        "        print(\"❌ Invalid input! Please enter integers only.\")\n",
        "\n",
        "if __name__ == \"__main__\":\n",
        "    main()"
      ],
      "metadata": {
        "colab": {
          "base_uri": "https://localhost:8080/"
        },
        "id": "_So4rhOT6XYD",
        "outputId": "dc230208-191c-4a80-f4b3-b09094fc4356"
      },
      "execution_count": 2,
      "outputs": [
        {
          "output_type": "stream",
          "name": "stdout",
          "text": [
            "01_chaotic_countin\n",
            "Enter start and end numbers for chaotic counting.\n",
            "Start → I'm going to count until 10 or until I feel like stopping, whichever comes first\n",
            "❌ Invalid input! Please enter integers only.\n"
          ]
        }
      ]
    },
    {
      "cell_type": "code",
      "source": [
        "print(\"02_count_even\")\n",
        "def count_even_numbers(numbers):\n",
        "    even_numbers = [num for num in numbers if num % 2 == 0]\n",
        "    return len(even_numbers), even_numbers\n",
        "\n",
        "def main():\n",
        "    print(\"Enter numbers separated by commas:\")\n",
        "    user_input = input(\"→ \")\n",
        "\n",
        "    try:\n",
        "        number_list = [int(num.strip()) for num in user_input.split(\",\")]\n",
        "    except ValueError:\n",
        "        print(\"❌ Invalid input! Please enter integers only.\")\n",
        "        return\n",
        "\n",
        "    count, evens = count_even_numbers(number_list)\n",
        "    print(f\"✅ Total even numbers: {count}\")\n",
        "    print(f\"Even numbers: {evens}\")\n",
        "\n",
        "if __name__ == \"__main__\":\n",
        "    main()"
      ],
      "metadata": {
        "colab": {
          "base_uri": "https://localhost:8080/"
        },
        "id": "PiL00Vcv6mRm",
        "outputId": "be99d8c6-75ca-4fba-bd08-be23f6b22177"
      },
      "execution_count": 3,
      "outputs": [
        {
          "output_type": "stream",
          "name": "stdout",
          "text": [
            "02_count_even\n",
            "Enter numbers separated by commas:\n",
            "→ 78,57\n",
            "✅ Total even numbers: 1\n",
            "Even numbers: [78]\n"
          ]
        }
      ]
    },
    {
      "cell_type": "code",
      "source": [
        "print(\"04_double\")\n",
        "\n",
        "def double_numbers(numbers):\n",
        "    return [num * 2 for num in numbers]\n",
        "\n",
        "def main():\n",
        "    print(\"Enter numbers separated by commas to double them:\")\n",
        "    user_input = input(\"→ \")\n",
        "\n",
        "    try:\n",
        "        number_list = [int(num.strip()) for num in user_input.split(\",\")]\n",
        "    except ValueError:\n",
        "        print(\"❌ Invalid input! Please enter integers only.\")\n",
        "        return\n",
        "\n",
        "    doubled = double_numbers(number_list)\n",
        "    print(f\"✅ Doubled numbers: {doubled}\")\n",
        "\n",
        "if __name__ == \"__main__\":\n",
        "    main()"
      ],
      "metadata": {
        "colab": {
          "base_uri": "https://localhost:8080/"
        },
        "id": "V3nWvt2I6t0q",
        "outputId": "5ed1780f-2a03-4ab6-c867-2913b6c2870a"
      },
      "execution_count": 4,
      "outputs": [
        {
          "output_type": "stream",
          "name": "stdout",
          "text": [
            "04_double\n",
            "Enter numbers separated by commas to double them:\n",
            "→ 57,78\n",
            "✅ Doubled numbers: [114, 156]\n"
          ]
        }
      ]
    },
    {
      "cell_type": "code",
      "source": [
        "print(\"05_get_name\")\n",
        "\n",
        "def get_name():\n",
        "    name = input(\"👋 What's your name? → \").strip()\n",
        "\n",
        "    if not name:\n",
        "        print(\"⚠️ You didn't enter a name!\")\n",
        "    else:\n",
        "        print(f\"🎉 Hello, {name}! Nice to meet you!\")\n",
        "\n",
        "def main():\n",
        "    get_name()\n",
        "\n",
        "if __name__ == \"__main__\":\n",
        "    main()"
      ],
      "metadata": {
        "colab": {
          "base_uri": "https://localhost:8080/"
        },
        "id": "v9R3OAHS62qo",
        "outputId": "561c48a0-f727-4588-c175-7f33cbfb0342"
      },
      "execution_count": 5,
      "outputs": [
        {
          "output_type": "stream",
          "name": "stdout",
          "text": [
            "05_get_name\n",
            "👋 What's your name? → Mahnoor\n",
            "🎉 Hello, Mahnoor! Nice to meet you!\n"
          ]
        }
      ]
    },
    {
      "cell_type": "code",
      "source": [
        "print(\"06_is_odd\")\n",
        "\n",
        "def is_odd(number):\n",
        "    return number % 2 != 0\n",
        "\n",
        "def main():\n",
        "    try:\n",
        "        num = int(input(\"🔢 Enter a number to check if it's odd: → \"))\n",
        "    except ValueError:\n",
        "        print(\"❌ Invalid input! Please enter a valid integer.\")\n",
        "        return\n",
        "\n",
        "    if is_odd(num):\n",
        "        print(f\"✅ {num} is an odd number.\")\n",
        "    else:\n",
        "        print(f\"❌ {num} is not an odd number (it's even).\")\n",
        "\n",
        "if __name__ == \"__main__\":\n",
        "    main()"
      ],
      "metadata": {
        "colab": {
          "base_uri": "https://localhost:8080/"
        },
        "id": "fofwZsfK6-ox",
        "outputId": "8f656db1-9e96-466a-ae80-ac5b1b6c19d5"
      },
      "execution_count": 6,
      "outputs": [
        {
          "output_type": "stream",
          "name": "stdout",
          "text": [
            "06_is_odd\n",
            "🔢 Enter a number to check if it's odd: → 5\n",
            "✅ 5 is an odd number.\n"
          ]
        }
      ]
    },
    {
      "cell_type": "code",
      "source": [
        "print(\"07_print_divisor\")\n",
        "\n",
        "def print_divisors(n):\n",
        "    print(f\"🔍 Divisors of {n} are:\")\n",
        "    for i in range(1, n + 1):\n",
        "        if n % i == 0:\n",
        "            print(f\"➤ {i}\")\n",
        "\n",
        "def main():\n",
        "    try:\n",
        "        num = int(input(\"🔢 Enter a number to find its divisors: → \"))\n",
        "        if num <= 0:\n",
        "            print(\"⚠️ Please enter a positive integer greater than 0.\")\n",
        "            return\n",
        "    except ValueError:\n",
        "        print(\"❌ Invalid input! Please enter a valid number.\")\n",
        "        return\n",
        "\n",
        "    print_divisors(num)\n",
        "\n",
        "if __name__ == \"__main__\":\n",
        "    main()"
      ],
      "metadata": {
        "colab": {
          "base_uri": "https://localhost:8080/"
        },
        "id": "IY3VypCz7Gc8",
        "outputId": "04499fb9-0898-4660-bff0-03249b39d370"
      },
      "execution_count": 7,
      "outputs": [
        {
          "output_type": "stream",
          "name": "stdout",
          "text": [
            "07_print_divisor\n",
            "🔢 Enter a number to find its divisors: → 45\n",
            "🔍 Divisors of 45 are:\n",
            "➤ 1\n",
            "➤ 3\n",
            "➤ 5\n",
            "➤ 9\n",
            "➤ 15\n",
            "➤ 45\n"
          ]
        }
      ]
    },
    {
      "cell_type": "code",
      "source": [
        "print(\"08_print_multiple\")\n",
        "\n",
        "def print_multiples(n, count):\n",
        "    print(f\"🧮 First {count} multiples of {n} are:\")\n",
        "    for i in range(1, count + 1):\n",
        "        print(f\"➤ {n} × {i} = {n * i}\")\n",
        "\n",
        "def main():\n",
        "    try:\n",
        "        num = int(input(\"🔢 Enter a number to find its multiples: → \"))\n",
        "        count = int(input(\"🔁 How many multiples do you want to see? → \"))\n",
        "        if num <= 0 or count <= 0:\n",
        "            print(\"⚠️ Please enter positive numbers only.\")\n",
        "            return\n",
        "    except ValueError:\n",
        "        print(\"❌ Invalid input! Please enter integers only.\")\n",
        "        return\n",
        "\n",
        "    print_multiples(num, count)\n",
        "\n",
        "if __name__ == \"__main__\":\n",
        "    main()"
      ],
      "metadata": {
        "colab": {
          "base_uri": "https://localhost:8080/"
        },
        "id": "bg6DR8xQ7OCa",
        "outputId": "1c11ccf7-6dde-4fa5-92b2-c61afb4d7a92"
      },
      "execution_count": 8,
      "outputs": [
        {
          "output_type": "stream",
          "name": "stdout",
          "text": [
            "08_print_multiple\n",
            "🔢 Enter a number to find its multiples: → 56\n",
            "🔁 How many multiples do you want to see? → 6\n",
            "🧮 First 6 multiples of 56 are:\n",
            "➤ 56 × 1 = 56\n",
            "➤ 56 × 2 = 112\n",
            "➤ 56 × 3 = 168\n",
            "➤ 56 × 4 = 224\n",
            "➤ 56 × 5 = 280\n",
            "➤ 56 × 6 = 336\n"
          ]
        }
      ]
    },
    {
      "cell_type": "code",
      "source": [
        "import random\n",
        "\n",
        "print(\"09_sentence_generator\")\n",
        "# Word lists\n",
        "nouns = [\"cat\", \"boy\", \"girl\", \"dog\", \"robot\"]\n",
        "verbs = [\"eats\", \"plays with\", \"runs to\", \"looks at\", \"builds\"]\n",
        "places = [\"the park\", \"school\", \"home\", \"the moon\", \"a castle\"]\n",
        "\n",
        "def generate_sentence():\n",
        "    noun = random.choice(nouns)\n",
        "    verb = random.choice(verbs)\n",
        "    place = random.choice(places)\n",
        "    return f\"The {noun} {verb} {place}.\"\n",
        "\n",
        "def main():\n",
        "    try:\n",
        "        count = int(input(\"📄 How many sentences do you want to generate? → \"))\n",
        "        if count <= 0:\n",
        "            print(\"⚠️ Please enter a positive number.\")\n",
        "            return\n",
        "    except ValueError:\n",
        "        print(\"❌ Invalid input! Please enter a valid number.\")\n",
        "        return\n",
        "\n",
        "    print(\"\\n📝 Generated Sentences:\")\n",
        "    for _ in range(count):\n",
        "        print(\"➤\", generate_sentence())\n",
        "\n",
        "if __name__ == \"__main__\":\n",
        "    main()"
      ],
      "metadata": {
        "colab": {
          "base_uri": "https://localhost:8080/"
        },
        "id": "uCZhjsRz7UT2",
        "outputId": "77b67139-d9a2-4230-ea2a-6fa30a203247"
      },
      "execution_count": 9,
      "outputs": [
        {
          "output_type": "stream",
          "name": "stdout",
          "text": [
            "09_sentence_generator\n",
            "📄 How many sentences do you want to generate? → 78\n",
            "\n",
            "📝 Generated Sentences:\n",
            "➤ The boy eats a castle.\n",
            "➤ The dog eats the park.\n",
            "➤ The robot eats the park.\n",
            "➤ The boy plays with a castle.\n",
            "➤ The boy eats school.\n",
            "➤ The girl plays with the moon.\n",
            "➤ The boy runs to a castle.\n",
            "➤ The cat eats the moon.\n",
            "➤ The girl runs to a castle.\n",
            "➤ The girl runs to a castle.\n",
            "➤ The girl runs to a castle.\n",
            "➤ The boy plays with the moon.\n",
            "➤ The dog builds the moon.\n",
            "➤ The cat looks at a castle.\n",
            "➤ The cat plays with a castle.\n",
            "➤ The boy builds school.\n",
            "➤ The robot eats school.\n",
            "➤ The cat eats home.\n",
            "➤ The boy builds the moon.\n",
            "➤ The boy eats school.\n",
            "➤ The cat eats school.\n",
            "➤ The cat looks at the moon.\n",
            "➤ The girl eats the moon.\n",
            "➤ The robot plays with school.\n",
            "➤ The girl builds the moon.\n",
            "➤ The girl runs to the park.\n",
            "➤ The cat plays with home.\n",
            "➤ The robot builds the park.\n",
            "➤ The girl looks at school.\n",
            "➤ The robot runs to a castle.\n",
            "➤ The dog plays with the moon.\n",
            "➤ The cat looks at the park.\n",
            "➤ The boy builds the park.\n",
            "➤ The dog runs to school.\n",
            "➤ The robot eats a castle.\n",
            "➤ The robot looks at the moon.\n",
            "➤ The girl builds school.\n",
            "➤ The cat plays with the moon.\n",
            "➤ The robot looks at the park.\n",
            "➤ The dog runs to school.\n",
            "➤ The boy eats the park.\n",
            "➤ The dog plays with school.\n",
            "➤ The boy builds a castle.\n",
            "➤ The girl eats the park.\n",
            "➤ The boy runs to a castle.\n",
            "➤ The dog builds the moon.\n",
            "➤ The robot builds the park.\n",
            "➤ The cat looks at home.\n",
            "➤ The dog runs to the park.\n",
            "➤ The boy builds school.\n",
            "➤ The cat eats school.\n",
            "➤ The dog looks at the park.\n",
            "➤ The robot looks at a castle.\n",
            "➤ The girl eats home.\n",
            "➤ The girl looks at home.\n",
            "➤ The cat runs to school.\n",
            "➤ The girl looks at the park.\n",
            "➤ The dog plays with the park.\n",
            "➤ The cat looks at the moon.\n",
            "➤ The robot looks at the moon.\n",
            "➤ The dog builds a castle.\n",
            "➤ The dog eats a castle.\n",
            "➤ The dog looks at school.\n",
            "➤ The dog eats home.\n",
            "➤ The girl runs to a castle.\n",
            "➤ The cat plays with home.\n",
            "➤ The girl runs to the moon.\n",
            "➤ The girl eats the moon.\n",
            "➤ The robot plays with a castle.\n",
            "➤ The dog plays with a castle.\n",
            "➤ The girl plays with home.\n",
            "➤ The girl plays with school.\n",
            "➤ The cat runs to home.\n",
            "➤ The dog builds the moon.\n",
            "➤ The dog plays with a castle.\n",
            "➤ The cat looks at the moon.\n",
            "➤ The cat runs to the moon.\n",
            "➤ The dog eats the moon.\n"
          ]
        }
      ]
    },
    {
      "cell_type": "code",
      "source": [
        "print(\"10_print_ones_digit\")\n",
        "\n",
        "def get_ones_digit(number):\n",
        "    return abs(number) % 10  # Negative number handle karne ke liye abs()\n",
        "\n",
        "def main():\n",
        "    try:\n",
        "        num = int(input(\"🔢 Enter a number: → \"))\n",
        "    except ValueError:\n",
        "        print(\"❌ Please enter a valid integer.\")\n",
        "        return\n",
        "\n",
        "    ones_digit = get_ones_digit(num)\n",
        "    print(f\"🧮 The ones digit of {num} is: {ones_digit}\")\n",
        "\n",
        "if __name__ == \"__main__\":\n",
        "    main()"
      ],
      "metadata": {
        "colab": {
          "base_uri": "https://localhost:8080/"
        },
        "id": "YwnhIogu7e5n",
        "outputId": "bd18c0c6-e235-4699-ab2b-b95b58107476"
      },
      "execution_count": 10,
      "outputs": [
        {
          "output_type": "stream",
          "name": "stdout",
          "text": [
            "10_print_ones_digit\n",
            "🔢 Enter a number: → 56\n",
            "🧮 The ones digit of 56 is: 6\n"
          ]
        }
      ]
    }
  ]
}